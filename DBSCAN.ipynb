{
 "cells": [
  {
   "cell_type": "code",
   "execution_count": 13,
   "metadata": {},
   "outputs": [
    {
     "name": "stdout",
     "output_type": "stream",
     "text": [
      "[-1 -1 -1  1 -1 -1 -1 -1 -1 -1 -1 -1 -1 -1 -1 -1 -1  0 -1 -1  1 -1 -1 -1\n",
      " -1 -1  1 -1 -1 -1 -1 -1 -1 -1 -1 -1 -1 -1 -1 -1 -1 -1  2 -1 -1  2 -1 -1\n",
      "  0  2 -1 -1 -1 -1 -1 -1  3 -1  3  3 -1 -1  3 -1 -1  0  1 -1 -1  2 -1 -1\n",
      " -1 -1 -1 -1 -1 -1  3 -1 -1 -1 -1 -1 -1 -1  3 -1 -1 -1 -1 -1  3 -1 -1 -1\n",
      " -1 -1 -1  1 -1 -1 -1 -1 -1 -1 -1 -1 -1  1 -1 -1 -1 -1 -1 -1 -1 -1 -1 -1\n",
      " -1  3 -1 -1 -1 -1 -1 -1 -1  2 -1  3 -1 -1 -1 -1 -1 -1 -1 -1 -1 -1 -1 -1\n",
      " -1 -1 -1 -1 -1 -1  1  1 -1 -1 -1 -1 -1 -1 -1 -1  3 -1 -1 -1 -1  1 -1 -1\n",
      "  0 -1 -1 -1 -1 -1 -1 -1 -1 -1  1 -1 -1 -1 -1  2 -1 -1 -1 -1 -1 -1 -1 -1\n",
      " -1 -1 -1 -1 -1  3 -1 -1 -1 -1 -1 -1  0 -1 -1 -1 -1 -1  1  1 -1 -1 -1 -1\n",
      " -1 -1 -1 -1 -1  2 -1  3 -1 -1 -1  1 -1  1 -1  1 -1 -1 -1  0  2 -1  1 -1\n",
      " -1 -1 -1 -1 -1 -1 -1 -1 -1  2 -1 -1 -1 -1 -1 -1  3 -1 -1 -1 -1 -1 -1 -1\n",
      " -1 -1 -1  2 -1 -1 -1 -1 -1 -1 -1 -1  0 -1 -1 -1 -1 -1 -1 -1 -1 -1 -1 -1\n",
      "  3 -1 -1  1 -1 -1 -1  2 -1  1 -1  2 -1 -1 -1 -1 -1  1 -1 -1 -1 -1 -1 -1\n",
      " -1 -1 -1 -1 -1 -1 -1 -1  3 -1 -1 -1 -1 -1 -1 -1 -1 -1 -1 -1 -1 -1 -1 -1\n",
      " -1  3 -1 -1 -1 -1 -1 -1 -1 -1 -1 -1 -1 -1 -1 -1 -1 -1  1 -1  1 -1 -1  1\n",
      " -1  3 -1 -1 -1  0 -1 -1 -1  3 -1 -1 -1  1 -1 -1 -1  1 -1 -1 -1 -1 -1 -1\n",
      " -1 -1 -1 -1  3 -1 -1 -1 -1 -1 -1 -1 -1 -1 -1 -1  1 -1 -1  2 -1 -1 -1 -1\n",
      " -1 -1 -1  1  1 -1 -1 -1  0 -1 -1  2 -1 -1 -1 -1  3 -1 -1 -1 -1  0 -1 -1\n",
      " -1 -1 -1 -1 -1 -1 -1 -1 -1 -1 -1 -1 -1  0 -1 -1 -1 -1 -1 -1 -1 -1 -1 -1\n",
      " -1 -1 -1 -1 -1 -1  0 -1 -1 -1 -1  3 -1  2 -1 -1 -1  0 -1 -1  0 -1 -1 -1\n",
      " -1  2 -1 -1  1  2 -1 -1  1 -1 -1 -1 -1 -1 -1 -1  2 -1 -1 -1]\n",
      "['y', 'b', 'g', 'r']\n"
     ]
    },
    {
     "data": {
      "image/png": "[encoded data removed]",
      "text/plain": [
       "<Figure size 432x288 with 1 Axes>"
      ]
     },
     "metadata": {},
     "output_type": "display_data"
    }
   ],
   "source": [
    "import numpy as np \n",
    "from sklearn.cluster import DBSCAN \n",
    "from sklearn import metrics \n",
    "from sklearn.datasets.samples_generator import make_blobs \n",
    "from sklearn.preprocessing import StandardScaler \n",
    "from sklearn import datasets \n",
    "\n",
    "# Load data in X \n",
    "X , label = make_blobs (n_samples=500, random_state = 20)\n",
    "db = DBSCAN(eps=0.3, min_samples=10).fit(X) \n",
    "core_samples_mask = np.zeros_like(db.labels_, dtype=bool) \n",
    "core_samples_mask[db.core_sample_indices_] = True\n",
    "labels = db.labels_ \n",
    "\n",
    "# Number of clusters in labels, ignoring noise if present. \n",
    "n_clusters_ = len(set(labels)) - (1 if -1 in labels else 0) \n",
    "\n",
    "print(labels) \n",
    "\n",
    "# Plot result \n",
    "import matplotlib.pyplot as plt \n",
    "\n",
    "# Black removed and is used for noise instead. \n",
    "unique_labels = set(labels) \n",
    "colors = ['y', 'b', 'g', 'r'] \n",
    "print(colors) \n",
    "for k, col in zip(unique_labels, colors): \n",
    "    if k == -1: \n",
    "        # Black used for noise. \n",
    "        col = 'k'\n",
    "\n",
    "    class_member_mask = (labels == k) \n",
    "\n",
    "    xy = X[class_member_mask & core_samples_mask] \n",
    "    plt.plot(xy[:, 0], xy[:, 1], 'o', markerfacecolor=col, \n",
    "                                    markeredgecolor='k', \n",
    "                                    markersize=6) \n",
    "\n",
    "    xy = X[class_member_mask & ~core_samples_mask] \n",
    "    plt.plot(xy[:, 0], xy[:, 1], 'o', markerfacecolor=col, \n",
    "                                    markeredgecolor='k', \n",
    "                                    markersize=6) \n",
    "\n",
    "plt.title('number of clusters: %d' %n_clusters_) \n",
    "plt.show() \n"
   ]
  },
  {
   "cell_type": "code",
   "execution_count": null,
   "metadata": {},
   "outputs": [],
   "source": []
  }
 ],
 "metadata": {
  "kernelspec": {
   "display_name": "Python 3",
   "language": "python",
   "name": "python3"
  },
  "language_info": {
   "codemirror_mode": {
    "name": "ipython",
    "version": 3
   },
   "file_extension": ".py",
   "mimetype": "text/x-python",
   "name": "python",
   "nbconvert_exporter": "python",
   "pygments_lexer": "ipython3",
   "version": "3.6.5"
  }
 },
 "nbformat": 4,
 "nbformat_minor": 2
}
