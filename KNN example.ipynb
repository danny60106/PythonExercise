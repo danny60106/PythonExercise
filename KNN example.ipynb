{
 "cells": [
  {
   "cell_type": "code",
   "execution_count": 17,
   "metadata": {},
   "outputs": [
    {
     "data": {
      "image/png": "[encoded data removed]",
      "text/plain": [
       "<Figure size 432x288 with 1 Axes>"
      ]
     },
     "metadata": {
      "needs_background": "light"
     },
     "output_type": "display_data"
    }
   ],
   "source": [
    "import matplotlib.pyplot as plt\n",
    "import numpy as np\n",
    "import operator\n",
    "\n",
    "#已知分類的數據\n",
    "x1 = np.array([3,2,1])\n",
    "y1 = np.array([104,100,81])\n",
    "x2 = np.array([101,99,98])\n",
    "y2 = np.array([10,5,2])\n",
    "scatter1 = plt.scatter(x1,y1,c=\"r\")\n",
    "scatter2 = plt.scatter(x2,y2,c=\"b\")\n",
    "\n",
    "#未知數據\n",
    "x = np.array([18])\n",
    "y = np.array([90])\n",
    "scatter3 = plt.scatter(x,y,c=\"k\")\n",
    "\n",
    "#劃出圖例\n",
    "plt.legend(handles=[scatter1,scatter2,scatter3],labels=['labelA','labelB','X'],loc='best')\n",
    "plt.show()\n"
   ]
  },
  {
   "cell_type": "code",
   "execution_count": 29,
   "metadata": {},
   "outputs": [],
   "source": [
    "#已知分類的數據\n",
    "x_data = np.array([[3,104],\n",
    "                  [2,100],\n",
    "                  [1,81],\n",
    "                  [101,10],\n",
    "                  [99,5],\n",
    "                  [81,2]])\n",
    "y_data = np.array(['A','A','A','B','B','B'])\n",
    "x_test = np.array([18,90])\n"
   ]
  },
  {
   "cell_type": "code",
   "execution_count": 30,
   "metadata": {},
   "outputs": [
    {
     "data": {
      "text/plain": [
       "6"
      ]
     },
     "execution_count": 30,
     "metadata": {},
     "output_type": "execute_result"
    }
   ],
   "source": [
    "#計算樣本數量\n",
    "x_data_size = x_data.shape[0]\n",
    "x_data_size"
   ]
  },
  {
   "cell_type": "code",
   "execution_count": 31,
   "metadata": {},
   "outputs": [
    {
     "data": {
      "text/plain": [
       "array([[18, 90],\n",
       "       [18, 90],\n",
       "       [18, 90],\n",
       "       [18, 90],\n",
       "       [18, 90],\n",
       "       [18, 90]])"
      ]
     },
     "execution_count": 31,
     "metadata": {},
     "output_type": "execute_result"
    }
   ],
   "source": [
    "#複製x_test\n",
    "np.tile(x_test, (x_data_size,1)) #複製6行 1列"
   ]
  },
  {
   "cell_type": "code",
   "execution_count": 32,
   "metadata": {},
   "outputs": [
    {
     "data": {
      "text/plain": [
       "array([[ 15, -14],\n",
       "       [ 16, -10],\n",
       "       [ 17,   9],\n",
       "       [-83,  80],\n",
       "       [-81,  85],\n",
       "       [-63,  88]])"
      ]
     },
     "execution_count": 32,
     "metadata": {},
     "output_type": "execute_result"
    }
   ],
   "source": [
    "#計算x_test與每一個點的差\n",
    "diffMat = np.tile(x_test, (x_data_size,1)) - x_data\n",
    "diffMat"
   ]
  },
  {
   "cell_type": "code",
   "execution_count": 38,
   "metadata": {},
   "outputs": [
    {
     "data": {
      "text/plain": [
       "array([[ 225,  196],\n",
       "       [ 256,  100],\n",
       "       [ 289,   81],\n",
       "       [6889, 6400],\n",
       "       [6561, 7225],\n",
       "       [3969, 7744]], dtype=int32)"
      ]
     },
     "execution_count": 38,
     "metadata": {},
     "output_type": "execute_result"
    }
   ],
   "source": [
    "#平方\n",
    "sqDiffMat = diffMat**2\n",
    "sqDiffMat"
   ]
  },
  {
   "cell_type": "code",
   "execution_count": 34,
   "metadata": {},
   "outputs": [
    {
     "data": {
      "text/plain": [
       "array([  421,   356,   370, 13289, 13786, 11713], dtype=int32)"
      ]
     },
     "execution_count": 34,
     "metadata": {},
     "output_type": "execute_result"
    }
   ],
   "source": [
    "#相加\n",
    "sqDistances = sqDiffMat.sum(axis=1)\n",
    "sqDistances"
   ]
  },
  {
   "cell_type": "code",
   "execution_count": 37,
   "metadata": {},
   "outputs": [
    {
     "data": {
      "text/plain": [
       "array([ 20.51828453,  18.86796226,  19.23538406, 115.27792503,\n",
       "       117.41379817, 108.2266141 ])"
      ]
     },
     "execution_count": 37,
     "metadata": {},
     "output_type": "execute_result"
    }
   ],
   "source": [
    "#開根號\n",
    "distances = sqDistances**0.5\n",
    "distances"
   ]
  },
  {
   "cell_type": "code",
   "execution_count": 39,
   "metadata": {},
   "outputs": [
    {
     "data": {
      "text/plain": [
       "array([1, 2, 0, 5, 3, 4], dtype=int64)"
      ]
     },
     "execution_count": 39,
     "metadata": {},
     "output_type": "execute_result"
    }
   ],
   "source": [
    "#從小到大排序\n",
    "sortedDistances = distances.argsort() #依照索引排序\n",
    "sortedDistances"
   ]
  },
  {
   "cell_type": "code",
   "execution_count": 41,
   "metadata": {},
   "outputs": [
    {
     "data": {
      "text/plain": [
       "{'A': 3, 'B': 2}"
      ]
     },
     "execution_count": 41,
     "metadata": {},
     "output_type": "execute_result"
    }
   ],
   "source": [
    "classCount = {}\n",
    "#設置k\n",
    "k = 5\n",
    "for i in range(k):\n",
    "    #獲取標籤\n",
    "    votelabel = y_data[sortedDistances[i]]\n",
    "    #統計標籤數量\n",
    "    classCount[votelabel] =classCount.get(votelabel,0) +1\n",
    "\n",
    "classCount"
   ]
  },
  {
   "cell_type": "code",
   "execution_count": 42,
   "metadata": {},
   "outputs": [
    {
     "data": {
      "text/plain": [
       "[('A', 3), ('B', 2)]"
      ]
     },
     "execution_count": 42,
     "metadata": {},
     "output_type": "execute_result"
    }
   ],
   "source": [
    "#根據operator.itemgetter(1) -第一個值對classCount排序,然後再取倒序\n",
    "sortedClassCount = sorted(classCount.items(),key=operator.itemgetter(1),reverse=True)\n",
    "sortedClassCount\n",
    "#由於排序完後不一定會依序出現所需要的值 故需要用這種方式來做排序"
   ]
  },
  {
   "cell_type": "code",
   "execution_count": 43,
   "metadata": {},
   "outputs": [
    {
     "data": {
      "text/plain": [
       "'A'"
      ]
     },
     "execution_count": 43,
     "metadata": {},
     "output_type": "execute_result"
    }
   ],
   "source": [
    "knnclass = sortedClassCount[0][0]\n",
    "knnclass"
   ]
  },
  {
   "cell_type": "code",
   "execution_count": null,
   "metadata": {},
   "outputs": [],
   "source": [
    "https://www.youtube.com/watch?v=04MR_rSek4c&list=PLzw77domqr9s5upGq1vaCZK2dO1_0ir0p&index=41&ab_channel=%E8%A6%83%E7%A7%89%E4%B8%B0"
   ]
  }
 ],
 "metadata": {
  "kernelspec": {
   "display_name": "Python 3",
   "language": "python",
   "name": "python3"
  },
  "language_info": {
   "codemirror_mode": {
    "name": "ipython",
    "version": 3
   },
   "file_extension": ".py",
   "mimetype": "text/x-python",
   "name": "python",
   "nbconvert_exporter": "python",
   "pygments_lexer": "ipython3",
   "version": "3.7.3"
  }
 },
 "nbformat": 4,
 "nbformat_minor": 2
}
